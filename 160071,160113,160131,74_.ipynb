{
  "nbformat": 4,
  "nbformat_minor": 0,
  "metadata": {
    "colab": {
      "name": "160071,160113,160131,74%",
      "provenance": [],
      "collapsed_sections": []
    },
    "kernelspec": {
      "name": "python3",
      "display_name": "Python 3"
    },
    "accelerator": "GPU"
  },
  "cells": [
    {
      "cell_type": "markdown",
      "metadata": {
        "colab_type": "text",
        "id": "5fCEDCU_qrC0"
      },
      "source": [
        "<img alt=\"Colaboratory logo\" height=\"45px\" src=\"https://colab.research.google.com/img/colab_favicon.ico\" align=\"left\" hspace=\"10px\" vspace=\"0px\">\n",
        "\n",
        "<h1>Welcome to Colaboratory!</h1>\n",
        "\n",
        "Colaboratory is a free Jupyter notebook environment that requires no setup and runs entirely in the cloud.\n",
        "\n",
        "With Colaboratory you can write and execute code, save and share your analyses, and access powerful computing resources, all for free from your browser."
      ]
    },
    {
      "cell_type": "code",
      "metadata": {
        "id": "BbPPohraEMDE",
        "colab_type": "code",
        "colab": {
          "base_uri": "https://localhost:8080/",
          "height": 54
        },
        "outputId": "bb4f60fa-e336-4ca0-dbe2-f289a1768dfb"
      },
      "source": [
        "from google.colab import drive\n",
        "drive.mount('/content/gdrive')"
      ],
      "execution_count": null,
      "outputs": [
        {
          "output_type": "stream",
          "text": [
            "Drive already mounted at /content/gdrive; to attempt to forcibly remount, call drive.mount(\"/content/gdrive\", force_remount=True).\n"
          ],
          "name": "stdout"
        }
      ]
    },
    {
      "cell_type": "code",
      "metadata": {
        "id": "iMWGH8ixFSY_",
        "colab_type": "code",
        "colab": {}
      },
      "source": [
        "import numpy as np\n",
        "from scipy import interpolate\n",
        "import pandas as pd\n",
        "import matplotlib.pyplot as plt\n",
        "from PIL import Image\n",
        "from scipy.ndimage import convolve\n",
        "import math\n",
        "from scipy.misc import imread, imshow\n",
        "from scipy import ndimage"
      ],
      "execution_count": null,
      "outputs": []
    },
    {
      "cell_type": "code",
      "metadata": {
        "id": "jR3TeKlmE10B",
        "colab_type": "code",
        "colab": {}
      },
      "source": [
        "data=pd.read_csv(\"gdrive/My Drive/Train.csv\")"
      ],
      "execution_count": null,
      "outputs": []
    },
    {
      "cell_type": "code",
      "metadata": {
        "id": "Mk0OCnL4iL4W",
        "colab_type": "code",
        "colab": {}
      },
      "source": [
        "labels=data['label']\n",
        "labels=labels.values\n",
        "data=pd.read_csv(\"gdrive/My Drive/interpolated_imgs.csv\")\n",
        "data=data.drop(data.columns[0],axis=1)"
      ],
      "execution_count": null,
      "outputs": []
    },
    {
      "cell_type": "code",
      "metadata": {
        "id": "plU-pB8kUZhZ",
        "colab_type": "code",
        "colab": {}
      },
      "source": [
        "def interpolate1(k1):# An array of 1024\n",
        "    k1=k1.reshape(32,32)\n",
        "    x = np.arange(0,k1.shape[1])\n",
        "    y = np.arange(0,k1.shape[0])\n",
        "    #mask invalid values\n",
        "    k1 = np.ma.masked_invalid(k1)\n",
        "    xx, yy = np.meshgrid(x, y)\n",
        "    #get only the valid values\n",
        "    x1 = xx[~k1.mask]\n",
        "    y1 = yy[~k1.mask]\n",
        "    newarr = k1[~k1.mask]\n",
        "    GD1 = interpolate.griddata((x1, y1), newarr.ravel(),(xx, yy),method='cubic')\n",
        "    col_mean=np.nanmean(GD1,axis=0)\n",
        "    inds=np.where(np.isnan(GD1))\n",
        "    GD1[inds]=np.take(col_mean,inds[1])\n",
        "    GD1=GD1.reshape(-1)\n",
        "    #GD1=GD1.reshape(32,32)\n",
        "    return GD1 #return a 32 x 32 array"
      ],
      "execution_count": null,
      "outputs": []
    },
    {
      "cell_type": "code",
      "metadata": {
        "id": "r5LWHK9hAurq",
        "colab_type": "code",
        "colab": {
          "base_uri": "https://localhost:8080/",
          "height": 243
        },
        "outputId": "2e46c4bc-9bec-4ae1-f199-8a9c42ea7c3f"
      },
      "source": [
        "data=np.array(data)\n",
        "data"
      ],
      "execution_count": null,
      "outputs": [
        {
          "output_type": "execute_result",
          "data": {
            "text/plain": [
              "array([[138.12647125, 137.19551933, 211.        , ..., 155.        ,\n",
              "        154.70730515, 158.        ],\n",
              "       [158.73110846, 149.45694296, 161.        , ..., 160.        ,\n",
              "        160.        , 159.980359  ],\n",
              "       [167.08552236, 161.09821499, 160.88490526, ..., 126.7600091 ,\n",
              "        130.52920139, 130.        ],\n",
              "       ...,\n",
              "       [247.        , 244.        , 246.        , ..., 156.        ,\n",
              "        152.87744867, 145.        ],\n",
              "       [248.61311285, 255.        , 255.        , ..., 207.35527475,\n",
              "        205.10617053, 209.        ],\n",
              "       [116.        , 117.        , 117.91473394, ..., 169.        ,\n",
              "        168.8497974 , 170.        ]])"
            ]
          },
          "metadata": {
            "tags": []
          },
          "execution_count": 7
        }
      ]
    },
    {
      "cell_type": "code",
      "metadata": {
        "id": "aDnL2oO4snuD",
        "colab_type": "code",
        "colab": {}
      },
      "source": [
        "Xtrain=data[0:48500]\n",
        "Ytrain=labels[0:48500]"
      ],
      "execution_count": null,
      "outputs": []
    },
    {
      "cell_type": "code",
      "metadata": {
        "id": "9A2_nooLY3eE",
        "colab_type": "code",
        "colab": {}
      },
      "source": [
        "data2=pd.read_csv(\"gdrive/My Drive/inter_im.csv\")\n",
        "data2=data2.drop(data2.columns[0],axis=1)"
      ],
      "execution_count": null,
      "outputs": []
    },
    {
      "cell_type": "code",
      "metadata": {
        "id": "sgGu1cs9ZM8f",
        "colab_type": "code",
        "colab": {
          "base_uri": "https://localhost:8080/",
          "height": 34
        },
        "outputId": "582d4ee5-3d32-4f52-86db-ae957486159a"
      },
      "source": [
        "data2=np.array(data2)\n",
        "data2.shape"
      ],
      "execution_count": null,
      "outputs": [
        {
          "output_type": "execute_result",
          "data": {
            "text/plain": [
              "(9700, 1024)"
            ]
          },
          "metadata": {
            "tags": []
          },
          "execution_count": 32
        }
      ]
    },
    {
      "cell_type": "code",
      "metadata": {
        "id": "0-jquyBIZejN",
        "colab_type": "code",
        "colab": {}
      },
      "source": [
        "Xtest=data2"
      ],
      "execution_count": null,
      "outputs": []
    },
    {
      "cell_type": "code",
      "metadata": {
        "id": "2mkqOywtG56N",
        "colab_type": "code",
        "colab": {}
      },
      "source": [
        "\n",
        "Xtrain = Xtrain.reshape(48500,32,32,1)\n",
        "Xtest=Xtest.reshape(9700,32,32,1)"
      ],
      "execution_count": null,
      "outputs": []
    },
    {
      "cell_type": "code",
      "metadata": {
        "id": "PgXbq4YeZwAv",
        "colab_type": "code",
        "colab": {
          "base_uri": "https://localhost:8080/",
          "height": 34
        },
        "outputId": "d79a3c2b-19a5-459a-ba1e-9f3caa6fafdb"
      },
      "source": [
        ""
      ],
      "execution_count": null,
      "outputs": [
        {
          "output_type": "stream",
          "text": [
            "(48500, 32, 32, 1) (9700, 32, 32, 1) (48500,) (8500, 10)\n"
          ],
          "name": "stdout"
        }
      ]
    },
    {
      "cell_type": "code",
      "metadata": {
        "id": "H165we9uVxfx",
        "colab_type": "code",
        "colab": {
          "base_uri": "https://localhost:8080/",
          "height": 34
        },
        "outputId": "5e4f6a01-7542-4ae7-f701-0d29ad2caaa0"
      },
      "source": [
        "\n",
        "from keras.utils import to_categorical\n",
        "Ytrain = to_categorical(Ytrain)\n",
        "#Ytest=to_categorical(Ytest)\n",
        "Ytrain.shape"
      ],
      "execution_count": null,
      "outputs": [
        {
          "output_type": "execute_result",
          "data": {
            "text/plain": [
              "(48500, 10)"
            ]
          },
          "metadata": {
            "tags": []
          },
          "execution_count": 37
        }
      ]
    },
    {
      "cell_type": "code",
      "metadata": {
        "id": "oKl0zktF766y",
        "colab_type": "code",
        "colab": {}
      },
      "source": [
        "mean = np.mean(Xtrain,axis=(0,1,2,3))\n",
        "std = np.std(Xtrain,axis=(0,1,2,3))\n",
        "Xtrain = (Xtrain-mean)/(std+1e-7)\n",
        "Xtest = (Xtest-mean)/(std+1e-7)"
      ],
      "execution_count": null,
      "outputs": []
    },
    {
      "cell_type": "code",
      "metadata": {
        "id": "JwdxZQNc8iWm",
        "colab_type": "code",
        "colab": {}
      },
      "source": [
        "num_classes = 10\n",
        "weight_decay = 1e-4"
      ],
      "execution_count": null,
      "outputs": []
    },
    {
      "cell_type": "code",
      "metadata": {
        "id": "03UhEFWj80m9",
        "colab_type": "code",
        "colab": {}
      },
      "source": [
        "import keras\n",
        "from keras.models import Sequential\n",
        "from keras.utils import np_utils\n",
        "from keras.preprocessing.image import ImageDataGenerator\n",
        "from keras.layers import Dense, Activation, Flatten, Dropout, BatchNormalization\n",
        "from keras.layers import Conv2D, MaxPooling2D\n",
        "from keras import regularizers\n",
        "from keras.callbacks import LearningRateScheduler"
      ],
      "execution_count": null,
      "outputs": []
    },
    {
      "cell_type": "markdown",
      "metadata": {
        "id": "XSG6h8ds9Pta",
        "colab_type": "text"
      },
      "source": [
        ""
      ]
    },
    {
      "cell_type": "code",
      "metadata": {
        "id": "xpE8SeaE9C_L",
        "colab_type": "code",
        "colab": {
          "base_uri": "https://localhost:8080/",
          "height": 1166
        },
        "outputId": "b7584190-80d1-4ed0-8b73-7d9d49c81571"
      },
      "source": [
        "model = Sequential()\n",
        "model.add(Conv2D(32, (3,3), padding='same', kernel_regularizer=regularizers.l2(weight_decay), input_shape=Xtrain.shape[1:]))\n",
        "model.add(Activation('elu'))\n",
        "model.add(BatchNormalization())\n",
        "model.add(Conv2D(32, (3,3), padding='same', kernel_regularizer=regularizers.l2(weight_decay)))\n",
        "model.add(Activation('elu'))\n",
        "model.add(BatchNormalization())\n",
        "model.add(MaxPooling2D(pool_size=(2,2)))\n",
        "model.add(Dropout(0.2))\n",
        "\n",
        "model.add(Conv2D(64, (3,3), padding='same', kernel_regularizer=regularizers.l2(weight_decay)))\n",
        "model.add(Activation('elu'))\n",
        "model.add(BatchNormalization())\n",
        "model.add(Conv2D(64, (3,3), padding='same', kernel_regularizer=regularizers.l2(weight_decay)))\n",
        "model.add(Activation('elu'))\n",
        "model.add(BatchNormalization())\n",
        "model.add(MaxPooling2D(pool_size=(2,2)))\n",
        "model.add(Dropout(0.3))\n",
        "\n",
        "model.add(Conv2D(128, (3,3), padding='same', kernel_regularizer=regularizers.l2(weight_decay)))\n",
        "model.add(Activation('elu'))\n",
        "model.add(BatchNormalization())\n",
        "model.add(Conv2D(128, (3,3), padding='same', kernel_regularizer=regularizers.l2(weight_decay)))\n",
        "model.add(Activation('elu'))\n",
        "model.add(BatchNormalization())\n",
        "model.add(MaxPooling2D(pool_size=(2,2)))\n",
        "model.add(Dropout(0.4))\n",
        " \n",
        "model.add(Flatten())\n",
        "model.add(Dense(num_classes, activation='softmax'))\n",
        " \n",
        "model.summary()"
      ],
      "execution_count": null,
      "outputs": [
        {
          "output_type": "stream",
          "text": [
            "WARNING:tensorflow:From /usr/local/lib/python3.6/dist-packages/tensorflow/python/framework/op_def_library.py:263: colocate_with (from tensorflow.python.framework.ops) is deprecated and will be removed in a future version.\n",
            "Instructions for updating:\n",
            "Colocations handled automatically by placer.\n",
            "WARNING:tensorflow:From /usr/local/lib/python3.6/dist-packages/keras/backend/tensorflow_backend.py:3445: calling dropout (from tensorflow.python.ops.nn_ops) with keep_prob is deprecated and will be removed in a future version.\n",
            "Instructions for updating:\n",
            "Please use `rate` instead of `keep_prob`. Rate should be set to `rate = 1 - keep_prob`.\n",
            "_________________________________________________________________\n",
            "Layer (type)                 Output Shape              Param #   \n",
            "=================================================================\n",
            "conv2d_1 (Conv2D)            (None, 32, 32, 32)        320       \n",
            "_________________________________________________________________\n",
            "activation_1 (Activation)    (None, 32, 32, 32)        0         \n",
            "_________________________________________________________________\n",
            "batch_normalization_1 (Batch (None, 32, 32, 32)        128       \n",
            "_________________________________________________________________\n",
            "conv2d_2 (Conv2D)            (None, 32, 32, 32)        9248      \n",
            "_________________________________________________________________\n",
            "activation_2 (Activation)    (None, 32, 32, 32)        0         \n",
            "_________________________________________________________________\n",
            "batch_normalization_2 (Batch (None, 32, 32, 32)        128       \n",
            "_________________________________________________________________\n",
            "max_pooling2d_1 (MaxPooling2 (None, 16, 16, 32)        0         \n",
            "_________________________________________________________________\n",
            "dropout_1 (Dropout)          (None, 16, 16, 32)        0         \n",
            "_________________________________________________________________\n",
            "conv2d_3 (Conv2D)            (None, 16, 16, 64)        18496     \n",
            "_________________________________________________________________\n",
            "activation_3 (Activation)    (None, 16, 16, 64)        0         \n",
            "_________________________________________________________________\n",
            "batch_normalization_3 (Batch (None, 16, 16, 64)        256       \n",
            "_________________________________________________________________\n",
            "conv2d_4 (Conv2D)            (None, 16, 16, 64)        36928     \n",
            "_________________________________________________________________\n",
            "activation_4 (Activation)    (None, 16, 16, 64)        0         \n",
            "_________________________________________________________________\n",
            "batch_normalization_4 (Batch (None, 16, 16, 64)        256       \n",
            "_________________________________________________________________\n",
            "max_pooling2d_2 (MaxPooling2 (None, 8, 8, 64)          0         \n",
            "_________________________________________________________________\n",
            "dropout_2 (Dropout)          (None, 8, 8, 64)          0         \n",
            "_________________________________________________________________\n",
            "conv2d_5 (Conv2D)            (None, 8, 8, 128)         73856     \n",
            "_________________________________________________________________\n",
            "activation_5 (Activation)    (None, 8, 8, 128)         0         \n",
            "_________________________________________________________________\n",
            "batch_normalization_5 (Batch (None, 8, 8, 128)         512       \n",
            "_________________________________________________________________\n",
            "conv2d_6 (Conv2D)            (None, 8, 8, 128)         147584    \n",
            "_________________________________________________________________\n",
            "activation_6 (Activation)    (None, 8, 8, 128)         0         \n",
            "_________________________________________________________________\n",
            "batch_normalization_6 (Batch (None, 8, 8, 128)         512       \n",
            "_________________________________________________________________\n",
            "max_pooling2d_3 (MaxPooling2 (None, 4, 4, 128)         0         \n",
            "_________________________________________________________________\n",
            "dropout_3 (Dropout)          (None, 4, 4, 128)         0         \n",
            "_________________________________________________________________\n",
            "flatten_1 (Flatten)          (None, 2048)              0         \n",
            "_________________________________________________________________\n",
            "dense_1 (Dense)              (None, 10)                20490     \n",
            "=================================================================\n",
            "Total params: 308,714\n",
            "Trainable params: 307,818\n",
            "Non-trainable params: 896\n",
            "_________________________________________________________________\n"
          ],
          "name": "stdout"
        }
      ]
    },
    {
      "cell_type": "code",
      "metadata": {
        "id": "n4fIXs-y9IDa",
        "colab_type": "code",
        "colab": {}
      },
      "source": [
        "#data augmentation\n",
        "datagen = ImageDataGenerator(\n",
        "    rotation_range=15,\n",
        "    width_shift_range=0.1,\n",
        "    height_shift_range=0.1,\n",
        "    horizontal_flip=True,\n",
        "    )\n",
        "datagen.fit(Xtrain)\n",
        " "
      ],
      "execution_count": null,
      "outputs": []
    },
    {
      "cell_type": "code",
      "metadata": {
        "id": "7iK9QTVyIzIN",
        "colab_type": "code",
        "colab": {}
      },
      "source": [
        "def lr_schedule(epoch):\n",
        "    lrate = 0.001\n",
        "    if epoch > 75:\n",
        "        lrate = 0.0005\n",
        "    if epoch > 100:\n",
        "        lrate = 0.0003\n",
        "    return lrate"
      ],
      "execution_count": null,
      "outputs": []
    },
    {
      "cell_type": "code",
      "metadata": {
        "id": "1j-kStGP9dXg",
        "colab_type": "code",
        "colab": {
          "base_uri": "https://localhost:8080/",
          "height": 4376
        },
        "outputId": "14ea84f7-699d-48c4-9167-a5a6736dd71f"
      },
      "source": [
        "#training\n",
        "batch_size = 64\n",
        " \n",
        "opt_rms = keras.optimizers.rmsprop(lr=0.001,decay=1e-6)\n",
        "model.compile(loss='categorical_crossentropy', optimizer=opt_rms, metrics=['accuracy'])\n",
        "model.fit_generator(datagen.flow(Xtrain, Ytrain, batch_size=batch_size),\\\n",
        "                    steps_per_epoch=Xtrain.shape[0] // batch_size,epochs=125,\\\n",
        "                    verbose=1,callbacks=[LearningRateScheduler(lr_schedule)])"
      ],
      "execution_count": null,
      "outputs": [
        {
          "output_type": "stream",
          "text": [
            "Epoch 1/125\n",
            "625/625 [==============================] - 31s 50ms/step - loss: 1.1571 - acc: 0.6715\n",
            "Epoch 2/125\n",
            "625/625 [==============================] - 29s 46ms/step - loss: 1.1516 - acc: 0.6751\n",
            "Epoch 3/125\n",
            "625/625 [==============================] - 28s 45ms/step - loss: 1.1461 - acc: 0.6778\n",
            "Epoch 4/125\n",
            "625/625 [==============================] - 28s 44ms/step - loss: 1.1387 - acc: 0.6794\n",
            "Epoch 5/125\n",
            "625/625 [==============================] - 28s 44ms/step - loss: 1.1377 - acc: 0.6800\n",
            "Epoch 6/125\n",
            "625/625 [==============================] - 28s 44ms/step - loss: 1.1339 - acc: 0.6811\n",
            "Epoch 7/125\n",
            "625/625 [==============================] - 28s 44ms/step - loss: 1.1324 - acc: 0.6844\n",
            "Epoch 8/125\n",
            "625/625 [==============================] - 28s 44ms/step - loss: 1.1228 - acc: 0.6877\n",
            "Epoch 9/125\n",
            "625/625 [==============================] - 27s 44ms/step - loss: 1.1244 - acc: 0.6860\n",
            "Epoch 10/125\n",
            "625/625 [==============================] - 27s 43ms/step - loss: 1.1179 - acc: 0.6904\n",
            "Epoch 11/125\n",
            "625/625 [==============================] - 27s 44ms/step - loss: 1.1148 - acc: 0.6934\n",
            "Epoch 12/125\n",
            "625/625 [==============================] - 27s 44ms/step - loss: 1.1118 - acc: 0.6932\n",
            "Epoch 13/125\n",
            "625/625 [==============================] - 27s 44ms/step - loss: 1.1087 - acc: 0.6970\n",
            "Epoch 14/125\n",
            "625/625 [==============================] - 27s 44ms/step - loss: 1.1120 - acc: 0.6936\n",
            "Epoch 15/125\n",
            "625/625 [==============================] - 27s 43ms/step - loss: 1.1068 - acc: 0.6961\n",
            "Epoch 16/125\n",
            "625/625 [==============================] - 27s 43ms/step - loss: 1.1080 - acc: 0.6957\n",
            "Epoch 17/125\n",
            "625/625 [==============================] - 28s 44ms/step - loss: 1.1061 - acc: 0.6965\n",
            "Epoch 18/125\n",
            "625/625 [==============================] - 27s 44ms/step - loss: 1.0972 - acc: 0.7004\n",
            "Epoch 19/125\n",
            "625/625 [==============================] - 28s 44ms/step - loss: 1.0937 - acc: 0.7027\n",
            "Epoch 20/125\n",
            "625/625 [==============================] - 27s 43ms/step - loss: 1.0954 - acc: 0.7008\n",
            "Epoch 21/125\n",
            "625/625 [==============================] - 28s 44ms/step - loss: 1.0964 - acc: 0.7018\n",
            "Epoch 22/125\n",
            "625/625 [==============================] - 27s 43ms/step - loss: 1.0980 - acc: 0.7022\n",
            "Epoch 23/125\n",
            "625/625 [==============================] - 28s 44ms/step - loss: 1.0938 - acc: 0.7021\n",
            "Epoch 24/125\n",
            "625/625 [==============================] - 27s 44ms/step - loss: 1.0916 - acc: 0.7052\n",
            "Epoch 25/125\n",
            "625/625 [==============================] - 27s 44ms/step - loss: 1.0920 - acc: 0.7046\n",
            "Epoch 26/125\n",
            "625/625 [==============================] - 28s 45ms/step - loss: 1.0842 - acc: 0.7074\n",
            "Epoch 27/125\n",
            "625/625 [==============================] - 28s 45ms/step - loss: 1.0901 - acc: 0.7054\n",
            "Epoch 28/125\n",
            "625/625 [==============================] - 28s 45ms/step - loss: 1.0882 - acc: 0.7043\n",
            "Epoch 29/125\n",
            "625/625 [==============================] - 28s 45ms/step - loss: 1.0835 - acc: 0.7070\n",
            "Epoch 30/125\n",
            "625/625 [==============================] - 28s 45ms/step - loss: 1.0827 - acc: 0.7082\n",
            "Epoch 31/125\n",
            "625/625 [==============================] - 28s 45ms/step - loss: 1.0808 - acc: 0.7089\n",
            "Epoch 32/125\n",
            "625/625 [==============================] - 28s 44ms/step - loss: 1.0826 - acc: 0.7115\n",
            "Epoch 33/125\n",
            "625/625 [==============================] - 28s 44ms/step - loss: 1.0788 - acc: 0.7093\n",
            "Epoch 34/125\n",
            "625/625 [==============================] - 28s 44ms/step - loss: 1.0799 - acc: 0.7105\n",
            "Epoch 35/125\n",
            "625/625 [==============================] - 27s 44ms/step - loss: 1.0818 - acc: 0.7103\n",
            "Epoch 36/125\n",
            "625/625 [==============================] - 27s 44ms/step - loss: 1.0778 - acc: 0.7102\n",
            "Epoch 37/125\n",
            "625/625 [==============================] - 29s 46ms/step - loss: 1.0735 - acc: 0.7097\n",
            "Epoch 38/125\n",
            "625/625 [==============================] - 28s 45ms/step - loss: 1.0723 - acc: 0.7111\n",
            "Epoch 39/125\n",
            "625/625 [==============================] - 29s 46ms/step - loss: 1.0699 - acc: 0.7163\n",
            "Epoch 40/125\n",
            "625/625 [==============================] - 28s 45ms/step - loss: 1.0744 - acc: 0.7115\n",
            "Epoch 41/125\n",
            "625/625 [==============================] - 28s 45ms/step - loss: 1.0713 - acc: 0.7143\n",
            "Epoch 42/125\n",
            "625/625 [==============================] - 28s 45ms/step - loss: 1.0735 - acc: 0.7142\n",
            "Epoch 43/125\n",
            "625/625 [==============================] - 29s 46ms/step - loss: 1.0673 - acc: 0.7160\n",
            "Epoch 44/125\n",
            "625/625 [==============================] - 28s 45ms/step - loss: 1.0714 - acc: 0.7138\n",
            "Epoch 45/125\n",
            "625/625 [==============================] - 28s 45ms/step - loss: 1.0712 - acc: 0.7131\n",
            "Epoch 46/125\n",
            "625/625 [==============================] - 28s 45ms/step - loss: 1.0706 - acc: 0.7171\n",
            "Epoch 47/125\n",
            "625/625 [==============================] - 28s 45ms/step - loss: 1.0691 - acc: 0.7145\n",
            "Epoch 48/125\n",
            "625/625 [==============================] - 27s 44ms/step - loss: 1.0660 - acc: 0.7157\n",
            "Epoch 49/125\n",
            "625/625 [==============================] - 28s 44ms/step - loss: 1.0697 - acc: 0.7167\n",
            "Epoch 50/125\n",
            "625/625 [==============================] - 28s 44ms/step - loss: 1.0662 - acc: 0.7194\n",
            "Epoch 51/125\n",
            "625/625 [==============================] - 27s 44ms/step - loss: 1.0629 - acc: 0.7180\n",
            "Epoch 52/125\n",
            "625/625 [==============================] - 27s 43ms/step - loss: 1.0653 - acc: 0.7164\n",
            "Epoch 53/125\n",
            "625/625 [==============================] - 27s 43ms/step - loss: 1.0698 - acc: 0.7135\n",
            "Epoch 54/125\n",
            "625/625 [==============================] - 26s 42ms/step - loss: 1.0619 - acc: 0.7175\n",
            "Epoch 55/125\n",
            "625/625 [==============================] - 26s 42ms/step - loss: 1.0661 - acc: 0.7174\n",
            "Epoch 56/125\n",
            "625/625 [==============================] - 26s 42ms/step - loss: 1.0606 - acc: 0.7184\n",
            "Epoch 57/125\n",
            "625/625 [==============================] - 26s 42ms/step - loss: 1.0609 - acc: 0.7189\n",
            "Epoch 58/125\n",
            "625/625 [==============================] - 26s 42ms/step - loss: 1.0636 - acc: 0.7176\n",
            "Epoch 59/125\n",
            "625/625 [==============================] - 26s 42ms/step - loss: 1.0574 - acc: 0.7205\n",
            "Epoch 60/125\n",
            "625/625 [==============================] - 26s 42ms/step - loss: 1.0580 - acc: 0.7197\n",
            "Epoch 61/125\n",
            "625/625 [==============================] - 27s 43ms/step - loss: 1.0624 - acc: 0.7204\n",
            "Epoch 62/125\n",
            "625/625 [==============================] - 27s 43ms/step - loss: 1.0614 - acc: 0.7193\n",
            "Epoch 63/125\n",
            "625/625 [==============================] - 27s 43ms/step - loss: 1.0584 - acc: 0.7204\n",
            "Epoch 64/125\n",
            "625/625 [==============================] - 27s 43ms/step - loss: 1.0567 - acc: 0.7198\n",
            "Epoch 65/125\n",
            "625/625 [==============================] - 27s 44ms/step - loss: 1.0583 - acc: 0.7200\n",
            "Epoch 66/125\n",
            "625/625 [==============================] - 27s 44ms/step - loss: 1.0496 - acc: 0.7227\n",
            "Epoch 67/125\n",
            "625/625 [==============================] - 27s 43ms/step - loss: 1.0538 - acc: 0.7228\n",
            "Epoch 68/125\n",
            "625/625 [==============================] - 27s 44ms/step - loss: 1.0560 - acc: 0.7210\n",
            "Epoch 69/125\n",
            "625/625 [==============================] - 27s 43ms/step - loss: 1.0546 - acc: 0.7194\n",
            "Epoch 70/125\n",
            "625/625 [==============================] - 28s 44ms/step - loss: 1.0573 - acc: 0.7230\n",
            "Epoch 71/125\n",
            "625/625 [==============================] - 28s 44ms/step - loss: 1.0547 - acc: 0.7246\n",
            "Epoch 72/125\n",
            "625/625 [==============================] - 28s 44ms/step - loss: 1.0545 - acc: 0.7217\n",
            "Epoch 73/125\n",
            "625/625 [==============================] - 28s 44ms/step - loss: 1.0482 - acc: 0.7214\n",
            "Epoch 74/125\n",
            "625/625 [==============================] - 28s 44ms/step - loss: 1.0486 - acc: 0.7237\n",
            "Epoch 75/125\n",
            "625/625 [==============================] - 28s 44ms/step - loss: 1.0524 - acc: 0.7231\n",
            "Epoch 76/125\n",
            "625/625 [==============================] - 27s 44ms/step - loss: 1.0505 - acc: 0.7239\n",
            "Epoch 77/125\n",
            "625/625 [==============================] - 28s 44ms/step - loss: 1.0102 - acc: 0.7372\n",
            "Epoch 78/125\n",
            "625/625 [==============================] - 28s 45ms/step - loss: 0.9912 - acc: 0.7418\n",
            "Epoch 79/125\n",
            "625/625 [==============================] - 28s 44ms/step - loss: 0.9811 - acc: 0.7456\n",
            "Epoch 80/125\n",
            "625/625 [==============================] - 28s 44ms/step - loss: 0.9794 - acc: 0.7453\n",
            "Epoch 81/125\n",
            "625/625 [==============================] - 28s 44ms/step - loss: 0.9780 - acc: 0.7457\n",
            "Epoch 82/125\n",
            "625/625 [==============================] - 28s 44ms/step - loss: 0.9710 - acc: 0.7464\n",
            "Epoch 83/125\n",
            "625/625 [==============================] - 28s 44ms/step - loss: 0.9667 - acc: 0.7447\n",
            "Epoch 84/125\n",
            "625/625 [==============================] - 27s 44ms/step - loss: 0.9599 - acc: 0.7494\n",
            "Epoch 85/125\n",
            "625/625 [==============================] - 27s 43ms/step - loss: 0.9594 - acc: 0.7496\n",
            "Epoch 86/125\n",
            "625/625 [==============================] - 27s 44ms/step - loss: 0.9554 - acc: 0.7488\n",
            "Epoch 87/125\n",
            "625/625 [==============================] - 27s 43ms/step - loss: 0.9562 - acc: 0.7496\n",
            "Epoch 88/125\n",
            "625/625 [==============================] - 27s 43ms/step - loss: 0.9476 - acc: 0.7516\n",
            "Epoch 89/125\n",
            "625/625 [==============================] - 27s 42ms/step - loss: 0.9543 - acc: 0.7487\n",
            "Epoch 90/125\n",
            "625/625 [==============================] - 26s 42ms/step - loss: 0.9477 - acc: 0.7502\n",
            "Epoch 91/125\n",
            "625/625 [==============================] - 26s 42ms/step - loss: 0.9470 - acc: 0.7481\n",
            "Epoch 92/125\n",
            "625/625 [==============================] - 27s 43ms/step - loss: 0.9441 - acc: 0.7510\n",
            "Epoch 93/125\n",
            "625/625 [==============================] - 27s 43ms/step - loss: 0.9445 - acc: 0.7531\n",
            "Epoch 94/125\n",
            "625/625 [==============================] - 27s 43ms/step - loss: 0.9412 - acc: 0.7533\n",
            "Epoch 95/125\n",
            "625/625 [==============================] - 27s 43ms/step - loss: 0.9402 - acc: 0.7509\n",
            "Epoch 96/125\n",
            "625/625 [==============================] - 27s 43ms/step - loss: 0.9382 - acc: 0.7518\n",
            "Epoch 97/125\n",
            "625/625 [==============================] - 27s 43ms/step - loss: 0.9392 - acc: 0.7511\n",
            "Epoch 98/125\n",
            "625/625 [==============================] - 27s 44ms/step - loss: 0.9372 - acc: 0.7532\n",
            "Epoch 99/125\n",
            "625/625 [==============================] - 27s 44ms/step - loss: 0.9358 - acc: 0.7509\n",
            "Epoch 100/125\n",
            "625/625 [==============================] - 27s 44ms/step - loss: 0.9402 - acc: 0.7501\n",
            "Epoch 101/125\n",
            "625/625 [==============================] - 27s 43ms/step - loss: 0.9334 - acc: 0.7548\n",
            "Epoch 102/125\n",
            "625/625 [==============================] - 28s 44ms/step - loss: 0.9165 - acc: 0.7592\n",
            "Epoch 103/125\n",
            "625/625 [==============================] - 27s 43ms/step - loss: 0.9073 - acc: 0.7609\n",
            "Epoch 104/125\n",
            "625/625 [==============================] - 27s 44ms/step - loss: 0.9051 - acc: 0.7627\n",
            "Epoch 105/125\n",
            "625/625 [==============================] - 27s 43ms/step - loss: 0.8982 - acc: 0.7646\n",
            "Epoch 106/125\n",
            "625/625 [==============================] - 27s 43ms/step - loss: 0.9004 - acc: 0.7632\n",
            "Epoch 107/125\n",
            "625/625 [==============================] - 27s 44ms/step - loss: 0.8945 - acc: 0.7650\n",
            "Epoch 108/125\n",
            "625/625 [==============================] - 27s 44ms/step - loss: 0.8871 - acc: 0.7660\n",
            "Epoch 109/125\n",
            "625/625 [==============================] - 27s 44ms/step - loss: 0.8906 - acc: 0.7651\n",
            "Epoch 110/125\n",
            "625/625 [==============================] - 27s 44ms/step - loss: 0.8859 - acc: 0.7649\n",
            "Epoch 111/125\n",
            "625/625 [==============================] - 27s 44ms/step - loss: 0.8851 - acc: 0.7689\n",
            "Epoch 112/125\n",
            "625/625 [==============================] - 27s 44ms/step - loss: 0.8892 - acc: 0.7645\n",
            "Epoch 113/125\n",
            "625/625 [==============================] - 27s 44ms/step - loss: 0.8802 - acc: 0.7666\n",
            "Epoch 114/125\n",
            "625/625 [==============================] - 27s 44ms/step - loss: 0.8794 - acc: 0.7689\n",
            "Epoch 115/125\n",
            "625/625 [==============================] - 27s 43ms/step - loss: 0.8764 - acc: 0.7682\n",
            "Epoch 116/125\n",
            "625/625 [==============================] - 27s 43ms/step - loss: 0.8767 - acc: 0.7704\n",
            "Epoch 117/125\n",
            "625/625 [==============================] - 27s 43ms/step - loss: 0.8807 - acc: 0.7667\n",
            "Epoch 118/125\n",
            "625/625 [==============================] - 27s 44ms/step - loss: 0.8733 - acc: 0.7695\n",
            "Epoch 119/125\n",
            "625/625 [==============================] - 27s 43ms/step - loss: 0.8795 - acc: 0.7665\n",
            "Epoch 120/125\n",
            "625/625 [==============================] - 27s 42ms/step - loss: 0.8794 - acc: 0.7665\n",
            "Epoch 121/125\n",
            "625/625 [==============================] - 27s 43ms/step - loss: 0.8752 - acc: 0.7668\n",
            "Epoch 122/125\n",
            "625/625 [==============================] - 28s 45ms/step - loss: 0.8765 - acc: 0.7672\n",
            "Epoch 123/125\n",
            "625/625 [==============================] - 29s 47ms/step - loss: 0.8739 - acc: 0.7676\n",
            "Epoch 124/125\n",
            "625/625 [==============================] - 39s 63ms/step - loss: 0.8727 - acc: 0.7675\n",
            "Epoch 125/125\n",
            "625/625 [==============================] - 31s 49ms/step - loss: 0.8701 - acc: 0.7691\n"
          ],
          "name": "stdout"
        },
        {
          "output_type": "execute_result",
          "data": {
            "text/plain": [
              "<keras.callbacks.History at 0x7f11030d5048>"
            ]
          },
          "metadata": {
            "tags": []
          },
          "execution_count": 23
        }
      ]
    },
    {
      "cell_type": "code",
      "metadata": {
        "id": "4lBM2k4R-0Cn",
        "colab_type": "code",
        "colab": {
          "base_uri": "https://localhost:8080/",
          "height": 69
        },
        "outputId": "bfe5cd41-0edb-4ee2-9152-a476b4c3219e"
      },
      "source": [
        "scores = model.evaluate(Xtest, Ytest, batch_size=128, verbose=1)\n",
        "print('\\nTest result: %.3f loss: %.3f' % (scores[1]*100,scores[0]))"
      ],
      "execution_count": null,
      "outputs": [
        {
          "output_type": "stream",
          "text": [
            "8500/8500 [==============================] - 1s 170us/step\n",
            "\n",
            "Test result: 73.929 loss: 1.023\n"
          ],
          "name": "stdout"
        }
      ]
    },
    {
      "cell_type": "code",
      "metadata": {
        "id": "HsZNabaNb89a",
        "colab_type": "code",
        "colab": {}
      },
      "source": [
        "pd.DataFrame(actual).to_csv('final.csv')"
      ],
      "execution_count": null,
      "outputs": []
    },
    {
      "cell_type": "markdown",
      "metadata": {
        "id": "wjbuve_MCwIs",
        "colab_type": "text"
      },
      "source": [
        ""
      ]
    },
    {
      "cell_type": "markdown",
      "metadata": {
        "colab_type": "text",
        "id": "-Rh3-Vt9Nev9"
      },
      "source": [
        "## More Resources\n",
        "\n",
        "Learn how to make the most of Python, Jupyter, Colaboratory, and related tools with these resources:\n",
        "\n",
        "### Working with Notebooks in Colaboratory\n",
        "- [Overview of Colaboratory](/notebooks/basic_features_overview.ipynb)\n",
        "- [Guide to Markdown](/notebooks/markdown_guide.ipynb)\n",
        "- [Importing libraries and installing dependencies](/notebooks/snippets/importing_libraries.ipynb)\n",
        "- [Saving and loading notebooks in GitHub](https://colab.research.google.com/github/googlecolab/colabtools/blob/master/notebooks/colab-github-demo.ipynb)\n",
        "- [Interactive forms](/notebooks/forms.ipynb)\n",
        "- [Interactive widgets](/notebooks/widgets.ipynb)\n",
        "\n",
        "### Working with Data\n",
        "- [Loading data: Drive, Sheets, and Google Cloud Storage](/notebooks/io.ipynb) \n",
        "- [Charts: visualizing data](/notebooks/charts.ipynb)\n",
        "- [Getting started with BigQuery](/notebooks/bigquery.ipynb)\n",
        "\n",
        "### Machine Learning Crash Course\n",
        "These are a few of the notebooks from Google's online Machine Learning course. See the [full course website](https://developers.google.com/machine-learning/crash-course/) for more.\n",
        "- [Intro to Pandas](/notebooks/mlcc/intro_to_pandas.ipynb)\n",
        "- [Tensorflow concepts](/notebooks/mlcc/tensorflow_programming_concepts.ipynb)\n",
        "- [First steps with TensorFlow](/notebooks/mlcc/first_steps_with_tensor_flow.ipynb)\n",
        "- [Intro to neural nets](/notebooks/mlcc/intro_to_neural_nets.ipynb)\n",
        "- [Intro to sparse data and embeddings](/notebooks/mlcc/intro_to_sparse_data_and_embeddings.ipynb)\n",
        "\n",
        "### Using Accelerated Hardware\n",
        "- [TensorFlow with GPUs](/notebooks/gpu.ipynb)\n",
        "- [TensorFlow with TPUs](/notebooks/tpu.ipynb)"
      ]
    },
    {
      "cell_type": "markdown",
      "metadata": {
        "colab_type": "text",
        "id": "P-H6Lw1vyNNd"
      },
      "source": [
        "## Machine Learning Examples: Seedbank\n",
        "\n",
        "To see end-to-end examples of the interactive machine learning analyses that Colaboratory makes possible, check out the [Seedbank](https://research.google.com/seedbank/) project.\n",
        "\n",
        "A few featured examples:\n",
        "\n",
        "- [Neural Style Transfer](https://research.google.com/seedbank/seed/neural_style_transfer_with_tfkeras): Use deep learning to transfer style between images.\n",
        "- [EZ NSynth](https://research.google.com/seedbank/seed/ez_nsynth): Synthesize audio with WaveNet auto-encoders.\n",
        "- [Fashion MNIST with Keras and TPUs](https://research.google.com/seedbank/seed/fashion_mnist_with_keras_and_tpus): Classify fashion-related images with deep learning.\n",
        "- [DeepDream](https://research.google.com/seedbank/seed/deepdream): Produce DeepDream images from your own photos.\n",
        "- [Convolutional VAE](https://research.google.com/seedbank/seed/convolutional_vae): Create a generative model of handwritten digits."
      ]
    }
  ]
}